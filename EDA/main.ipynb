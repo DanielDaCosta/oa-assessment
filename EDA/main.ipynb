{
 "cells": [
  {
   "cell_type": "markdown",
   "metadata": {},
   "source": [
    "# Used only for testing"
   ]
  },
  {
   "cell_type": "markdown",
   "metadata": {},
   "source": [
    "Extract a sample for the dataset for analysis"
   ]
  },
  {
   "cell_type": "code",
   "execution_count": 1,
   "metadata": {},
   "outputs": [],
   "source": [
    "import ijson"
   ]
  },
  {
   "cell_type": "code",
   "execution_count": 2,
   "metadata": {},
   "outputs": [],
   "source": [
    "def print_first_lines(json_file, num_lines, output_file):\n",
    "    list_outputs = []\n",
    "    with open(json_file, 'r') as f:\n",
    "        for _ in range(num_lines):\n",
    "            list_outputs.append(f.readline().strip())\n",
    "\n",
    "    # Write the sampled lines to a new JSON file\n",
    "    with open(output_file, 'w') as outfile:\n",
    "        for line in list_outputs[100:]:\n",
    "            outfile.write(line + '\\n')\n",
    "\n",
    "# Specify the path to your JSON file and the number of lines you want to print\n",
    "json_file_path = '2024-05-01_anthem_index.json'\n",
    "number_of_lines = 1000000  # Change this to print more or fewer lines\n",
    "output_json_file = 'sampled_output_4.json'  # Specify the output file name\n",
    "\n",
    "# Call the function to print the first few lines of the file and save to a new JSON file\n",
    "print_first_lines(json_file_path, number_of_lines, output_json_file)"
   ]
  },
  {
   "cell_type": "code",
   "execution_count": 3,
   "metadata": {},
   "outputs": [],
   "source": [
    "def print_first_lines(json_file, num_lines, output_file):\n",
    "    list_outputs = []\n",
    "    with open(json_file, 'r') as f:\n",
    "        for _ in range(num_lines):\n",
    "            list_outputs.append(f.readline().strip())\n",
    "\n",
    "    # Write the sampled lines to a new JSON file\n",
    "    with open(output_file, 'w') as outfile:\n",
    "        for line in list_outputs:\n",
    "            outfile.write(line + '\\n')\n",
    "\n",
    "# Specify the path to your JSON file and the number of lines you want to print\n",
    "json_file_path = 'DownloadAnthemWebsite.json'\n",
    "number_of_lines = 50  # Change this to print more or fewer lines\n",
    "output_json_file = 'sampled_output_website_NY.json'  # Specify the output file name\n",
    "\n",
    "# Call the function to print the first few lines of the file and save to a new JSON file\n",
    "print_first_lines(json_file_path, number_of_lines, output_json_file)"
   ]
  },
  {
   "cell_type": "code",
   "execution_count": 1,
   "metadata": {},
   "outputs": [],
   "source": [
    "def print_first_lines(json_file, num_lines, output_file):\n",
    "    list_outputs = []\n",
    "    with open(json_file, 'r') as f:\n",
    "        for _ in range(num_lines):\n",
    "            list_outputs.append(f.readline().strip())\n",
    "\n",
    "    # Write the sampled lines to a new JSON file\n",
    "    with open(output_file, 'w') as outfile:\n",
    "        for line in list_outputs[-100:]:\n",
    "            outfile.write(line + '\\n')\n",
    "\n",
    "# Specify the path to your JSON file and the number of lines you want to print\n",
    "json_file_path = '2024-05_254_39F0_in-network-rates_5_of_9.json'\n",
    "number_of_lines = 10000  # Change this to print more or fewer lines\n",
    "output_json_file = 'sampled_output_2024-05_254_39F0_in-network-rates_5_of_9.json'  # Specify the output file name\n",
    "\n",
    "# Call the function to print the first few lines of the file and save to a new JSON file\n",
    "print_first_lines(json_file_path, number_of_lines, output_json_file)"
   ]
  },
  {
   "cell_type": "code",
   "execution_count": null,
   "metadata": {},
   "outputs": [],
   "source": []
  }
 ],
 "metadata": {
  "kernelspec": {
   "display_name": "serif",
   "language": "python",
   "name": "python3"
  },
  "language_info": {
   "codemirror_mode": {
    "name": "ipython",
    "version": 3
   },
   "file_extension": ".py",
   "mimetype": "text/x-python",
   "name": "python",
   "nbconvert_exporter": "python",
   "pygments_lexer": "ipython3",
   "version": "3.10.14"
  }
 },
 "nbformat": 4,
 "nbformat_minor": 2
}
