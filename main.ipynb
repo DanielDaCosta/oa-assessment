{
 "cells": [
  {
   "cell_type": "markdown",
   "metadata": {},
   "source": [
    "# Import Libraries"
   ]
  },
  {
   "cell_type": "code",
   "execution_count": 56,
   "metadata": {},
   "outputs": [],
   "source": [
    "import ijson\n",
    "import re\n",
    "import csv\n",
    "import time"
   ]
  },
  {
   "cell_type": "code",
   "execution_count": 57,
   "metadata": {},
   "outputs": [],
   "source": [
    "INPUT_FILE = \"../2024-05-01_anthem_index.json\"\n",
    "OUTPUT_FILE = \"ANTHEM_PPO_NY_URLS.csv\""
   ]
  },
  {
   "cell_type": "code",
   "execution_count": 58,
   "metadata": {},
   "outputs": [],
   "source": [
    "def check_if_plan_is_anthem_ppo(plan_name: str) -> bool:\n",
    "    # Check if plan_name has ATHEM ... PPO\n",
    "    pattern = re.compile(r'ANTHEM.*PPO', re.DOTALL | re.IGNORECASE)\n",
    "    match = pattern.search(plan_name)\n",
    "    return True if match else False"
   ]
  },
  {
   "cell_type": "code",
   "execution_count": 59,
   "metadata": {},
   "outputs": [],
   "source": [
    "def filter_url_based_on_ANTHEM_NY(url: str, code_empire:str = \"254_39\") -> bool:\n",
    "\n",
    "    # break URL on \n",
    "    parts = url.split('.gz?')\n",
    "\n",
    "    if len(parts) < 2:\n",
    "        return False\n",
    "    \n",
    "    # Example: https://anthembcbsky.mrf.bcbs.com/2024-05_254_39B0_in-network-rates_1_of_10.json.gz?\n",
    "    first_part_url = parts[0]\n",
    "\n",
    "    # Check if it's \"Empire BlueCross BlueShield\"\n",
    "    if code_empire in first_part_url:\n",
    "        return True\n",
    "    else:\n",
    "        return False"
   ]
  },
  {
   "cell_type": "code",
   "execution_count": 60,
   "metadata": {},
   "outputs": [],
   "source": [
    "start_time = time.time()"
   ]
  },
  {
   "cell_type": "code",
   "execution_count": 61,
   "metadata": {},
   "outputs": [],
   "source": [
    "with open(INPUT_FILE, 'r') as file, open(OUTPUT_FILE, 'w', newline='') as csvfile:\n",
    "\n",
    "    # Output file\n",
    "    csv_writer = csv.writer(csvfile)\n",
    "    csv_writer.writerow([\"URL\"])\n",
    "    \n",
    "    # Iterating over each reporting structure\n",
    "    reporting_structure = ijson.items(file, 'reporting_structure.item')\n",
    "    i = 0\n",
    "    for report in reporting_structure:\n",
    "        \n",
    "        # Analyze for ANTHEM PPO\n",
    "        has_anthem_ppo = False\n",
    "        for reporting_plans in report['reporting_plans']:\n",
    "\n",
    "            # Get plan_name\n",
    "            plan_name = reporting_plans.get('plan_name')\n",
    "            if plan_name:\n",
    "                check_if_plan_is_ANTHEM_PPO = check_if_plan_is_anthem_ppo(plan_name)\n",
    "                if check_if_plan_is_ANTHEM_PPO:\n",
    "                    has_anthem_ppo = True\n",
    "\n",
    "        # If plan_name is ANTHEM PPO search for NY state\n",
    "        # !! ANTHEM in NY is called \"Empire BlueCross BlueShield\"\n",
    "        # Need to find the in_network files for this particular name\n",
    "\n",
    "        # \"Empire BlueCross BlueShield\" => code 254 39__\n",
    "        if has_anthem_ppo:\n",
    "            for network_file in report.get('in_network_files'):\n",
    "\n",
    "                # Need to fier for\n",
    "                url_location = network_file.get('location')\n",
    "                if url_location:\n",
    "                    is_NY = filter_url_based_on_ANTHEM_NY(url_location)\n",
    "                    if is_NY:\n",
    "                        csv_writer.writerow([url_location])"
   ]
  },
  {
   "cell_type": "code",
   "execution_count": 62,
   "metadata": {},
   "outputs": [
    {
     "name": "stdout",
     "output_type": "stream",
     "text": [
      "Total execution time: 46.84 seconds\n"
     ]
    }
   ],
   "source": [
    "# End timing the execution\n",
    "end_time = time.time()\n",
    "\n",
    "# Calculate and print the total execution time\n",
    "execution_time = end_time - start_time\n",
    "print(f\"Total execution time: {execution_time:.2f} seconds\")"
   ]
  },
  {
   "cell_type": "code",
   "execution_count": null,
   "metadata": {},
   "outputs": [],
   "source": []
  }
 ],
 "metadata": {
  "kernelspec": {
   "display_name": "serif",
   "language": "python",
   "name": "python3"
  },
  "language_info": {
   "codemirror_mode": {
    "name": "ipython",
    "version": 3
   },
   "file_extension": ".py",
   "mimetype": "text/x-python",
   "name": "python",
   "nbconvert_exporter": "python",
   "pygments_lexer": "ipython3",
   "version": "3.10.14"
  }
 },
 "nbformat": 4,
 "nbformat_minor": 2
}
